{
 "cells": [
  {
   "cell_type": "code",
   "execution_count": 15,
   "metadata": {},
   "outputs": [
    {
     "name": "stdout",
     "output_type": "stream",
     "text": [
      "0     Gulshan\n",
      "1    Shashank\n",
      "2       Bablu\n",
      "3    Abhishek\n",
      "4       Anand\n",
      "5         NaN\n",
      "6      Pratap\n",
      "dtype: object\n"
     ]
    }
   ],
   "source": [
    "#Let's create a datframe --->\n",
    "\n",
    "#Importing the necessary libraries\n",
    "import pandas as pd\n",
    "import numpy as np\n",
    "\n",
    "#df stands fro dataframe\n",
    "df = pd.Series(['Gulshan', 'Shashank', 'Bablu', 'Abhishek', 'Anand', np.nan,'Pratap'])\n",
    "\n",
    "print(df)"
   ]
  },
  {
   "cell_type": "code",
   "execution_count": 16,
   "metadata": {},
   "outputs": [
    {
     "name": "stdout",
     "output_type": "stream",
     "text": [
      "0     Gulshan\n",
      "1    Shashank\n",
      "2       Bablu\n",
      "3    Abhishek\n",
      "4       Anand\n",
      "5        <NA>\n",
      "6      Pratap\n",
      "dtype: string\n"
     ]
    }
   ],
   "source": [
    "#we can change the dtype after creation of dataframe\n",
    "print(df.astype('string'))"
   ]
  },
  {
   "cell_type": "code",
   "execution_count": 11,
   "metadata": {},
   "outputs": [
    {
     "name": "stdout",
     "output_type": "stream",
     "text": [
      "0     Gulshan\n",
      "1    Shashank\n",
      "2       Bablu\n",
      "3    Abhishek\n",
      "4       Anand\n",
      "5        <NA>\n",
      "6      Pratap\n",
      "dtype: string\n"
     ]
    }
   ],
   "source": [
    "#now creating the dataframe as dtype = 'string'\n",
    "df = pd.Series(['Gulshan', 'Shashank', 'Bablu', 'Abhishek', 'Anand', np.nan,'Pratap'], dtype='string')\n",
    "\n",
    "print(df)"
   ]
  },
  {
   "cell_type": "code",
   "execution_count": 12,
   "metadata": {},
   "outputs": [
    {
     "name": "stdout",
     "output_type": "stream",
     "text": [
      "0     Gulshan\n",
      "1    Shashank\n",
      "2       Bablu\n",
      "3    Abhishek\n",
      "4       Anand\n",
      "5        <NA>\n",
      "6      Pratap\n",
      "dtype: string\n"
     ]
    }
   ],
   "source": [
    "#now creating the dataframe as dtype = pd.StringDtype()\n",
    "df = pd.Series(['Gulshan', 'Shashank', 'Bablu', 'Abhishek', 'Anand', np.nan,'Pratap'], dtype=pd.StringDtype())\n",
    "\n",
    "print(df)"
   ]
  },
  {
   "cell_type": "code",
   "execution_count": 28,
   "metadata": {},
   "outputs": [
    {
     "data": {
      "text/plain": [
       "0        night_fury1\n",
       "1               Is  \n",
       "2    Geeks, forgeeks\n",
       "3                100\n",
       "4                NaN\n",
       "5       Contributor \n",
       "dtype: object"
      ]
     },
     "execution_count": 28,
     "metadata": {},
     "output_type": "execute_result"
    }
   ],
   "source": [
    "import pandas as pd\n",
    "import numpy as np\n",
    "\n",
    "df = pd.Series(['night_fury1', 'Is  ', 'Geeks, forgeeks', '100', np.nan, '  Contributor '])\n",
    "df"
   ]
  },
  {
   "cell_type": "code",
   "execution_count": 20,
   "metadata": {},
   "outputs": [
    {
     "name": "stdout",
     "output_type": "stream",
     "text": [
      "0        night_fury1\n",
      "1               is  \n",
      "2    geeks, forgeeks\n",
      "3                100\n",
      "4                NaN\n",
      "5       contributor \n",
      "dtype: object\n"
     ]
    }
   ],
   "source": [
    "#lower()\n",
    "print(df.str.lower())"
   ]
  },
  {
   "cell_type": "code",
   "execution_count": 21,
   "metadata": {},
   "outputs": [
    {
     "name": "stdout",
     "output_type": "stream",
     "text": [
      "0        NIGHT_FURY1\n",
      "1               IS  \n",
      "2    GEEKS, FORGEEKS\n",
      "3                100\n",
      "4                NaN\n",
      "5       CONTRIBUTOR \n",
      "dtype: object\n"
     ]
    }
   ],
   "source": [
    "#upper()\n",
    "print(df.str.upper())"
   ]
  },
  {
   "cell_type": "code",
   "execution_count": 22,
   "metadata": {},
   "outputs": [
    {
     "name": "stdout",
     "output_type": "stream",
     "text": [
      "0        night_fury1\n",
      "1               Is  \n",
      "2    Geeks, forgeeks\n",
      "3                100\n",
      "4                NaN\n",
      "5       Contributor \n",
      "dtype: object\n",
      "\n",
      "After using the strip:\n",
      "0        night_fury1\n",
      "1                 Is\n",
      "2    Geeks, forgeeks\n",
      "3                100\n",
      "4                NaN\n",
      "5        Contributor\n",
      "dtype: object\n"
     ]
    }
   ],
   "source": [
    "#strip()\n",
    "print(df)\n",
    "print('\\nAfter using the strip:')\n",
    "print(df.str.strip())"
   ]
  },
  {
   "cell_type": "code",
   "execution_count": 29,
   "metadata": {},
   "outputs": [
    {
     "name": "stdout",
     "output_type": "stream",
     "text": [
      "0        night_fury1\n",
      "1               Is  \n",
      "2    Geeks, forgeeks\n",
      "3                100\n",
      "4                NaN\n",
      "5       Contributor \n",
      "dtype: object\n",
      "\n",
      "After using the strip:\n",
      "0         [night_fury1]\n",
      "1                [Is  ]\n",
      "2    [Geeks,  forgeeks]\n",
      "3                 [100]\n",
      "4                   NaN\n",
      "5      [  Contributor ]\n",
      "dtype: object\n",
      "\n",
      "using []:\n",
      "0       night_fury1\n",
      "1              Is  \n",
      "2             Geeks\n",
      "3               100\n",
      "4               NaN\n",
      "5      Contributor \n",
      "dtype: object\n",
      "\n",
      "using get():\n",
      "0          NaN\n",
      "1          NaN\n",
      "2     forgeeks\n",
      "3          NaN\n",
      "4          NaN\n",
      "5          NaN\n",
      "dtype: object\n"
     ]
    }
   ],
   "source": [
    "#split(pattern)\n",
    "print(df)\n",
    "print('\\nAfter using the strip:')\n",
    "print(df.str.split(','))\n",
    "\n",
    "#now we can use [] or get() to fetch the index values\n",
    "print('\\nusing []:')\n",
    "print(df.str.split(',').str[0])\n",
    "print('\\nusing get():')\n",
    "print(df.str.split(',').str.get(1))"
   ]
  },
  {
   "cell_type": "code",
   "execution_count": 30,
   "metadata": {},
   "outputs": [
    {
     "name": "stdout",
     "output_type": "stream",
     "text": [
      "length of the dataframe:  6\n",
      "length of each value of dataframe:\n",
      "0    11.0\n",
      "1     4.0\n",
      "2    15.0\n",
      "3     3.0\n",
      "4     NaN\n",
      "5    14.0\n",
      "dtype: float64\n"
     ]
    }
   ],
   "source": [
    "#len()\n",
    "print(\"length of the dataframe: \", len(df))\n",
    "print(\"length of each value of dataframe:\")\n",
    "print(df.str.len())"
   ]
  },
  {
   "cell_type": "code",
   "execution_count": 31,
   "metadata": {},
   "outputs": [
    {
     "name": "stdout",
     "output_type": "stream",
     "text": [
      "0        night_fury1\n",
      "1               Is  \n",
      "2    Geeks, forgeeks\n",
      "3                100\n",
      "4                NaN\n",
      "5       Contributor \n",
      "dtype: object\n",
      "\n",
      "after using cat:\n",
      "night_fury1_Is  _Geeks, forgeeks_100_  Contributor \n",
      "\n",
      "working with NaN using cat:\n",
      "night_fury1_Is  _Geeks, forgeeks_100_#_  Contributor \n"
     ]
    }
   ],
   "source": [
    "#cat(sep=pattern)\n",
    "print(df)\n",
    "print(\"\\nafter using cat:\")\n",
    "print(df.str.cat(sep='_'))\n",
    "print(\"\\nworking with NaN using cat:\")\n",
    "print(df.str.cat(sep='_', na_rep='#'))"
   ]
  },
  {
   "cell_type": "code",
   "execution_count": 32,
   "metadata": {},
   "outputs": [
    {
     "name": "stdout",
     "output_type": "stream",
     "text": [
      "     Contributor   100  Geeks, forgeeks  Is    night_fury1\n",
      "0               0    0                0     0            1\n",
      "1               0    0                0     1            0\n",
      "2               0    0                1     0            0\n",
      "3               0    1                0     0            0\n",
      "4               0    0                0     0            0\n",
      "5               1    0                0     0            0\n"
     ]
    }
   ],
   "source": [
    "#get_dummies()\n",
    "print(df.str.get_dummies())"
   ]
  },
  {
   "cell_type": "code",
   "execution_count": 33,
   "metadata": {},
   "outputs": [
    {
     "name": "stdout",
     "output_type": "stream",
     "text": [
      "0    False\n",
      "1    False\n",
      "2     True\n",
      "3    False\n",
      "4      NaN\n",
      "5    False\n",
      "dtype: object\n"
     ]
    }
   ],
   "source": [
    "#startswith(pattern)\n",
    "print(df.str.startswith('G'))"
   ]
  },
  {
   "cell_type": "code",
   "execution_count": 34,
   "metadata": {},
   "outputs": [
    {
     "name": "stdout",
     "output_type": "stream",
     "text": [
      "0     True\n",
      "1    False\n",
      "2    False\n",
      "3    False\n",
      "4      NaN\n",
      "5    False\n",
      "dtype: object\n"
     ]
    }
   ],
   "source": [
    "#endswith(pattern)\n",
    "print(df.str.endswith('1'))"
   ]
  },
  {
   "cell_type": "code",
   "execution_count": 35,
   "metadata": {},
   "outputs": [
    {
     "name": "stdout",
     "output_type": "stream",
     "text": [
      "0        night_fury1\n",
      "1               Is  \n",
      "2    Geeks, forgeeks\n",
      "3                100\n",
      "4                NaN\n",
      "5       Contributor \n",
      "dtype: object\n",
      "\n",
      "After using replace:\n",
      "0          night_fury1\n",
      "1                 Is  \n",
      "2    Gulshan, forgeeks\n",
      "3                  100\n",
      "4                  NaN\n",
      "5         Contributor \n",
      "dtype: object\n"
     ]
    }
   ],
   "source": [
    "#replace(a,b)\n",
    "print(df)\n",
    "print(\"\\nAfter using replace:\")\n",
    "print(df.str.replace('Geeks', 'Gulshan'))"
   ]
  },
  {
   "cell_type": "code",
   "execution_count": 36,
   "metadata": {},
   "outputs": [
    {
     "name": "stdout",
     "output_type": "stream",
     "text": [
      "0            night_fury1night_fury1\n",
      "1                          Is  Is  \n",
      "2    Geeks, forgeeksGeeks, forgeeks\n",
      "3                            100100\n",
      "4                               NaN\n",
      "5        Contributor   Contributor \n",
      "dtype: object\n"
     ]
    }
   ],
   "source": [
    "#repeat(value)\n",
    "print(df.str.repeat(2))"
   ]
  },
  {
   "cell_type": "code",
   "execution_count": 37,
   "metadata": {},
   "outputs": [
    {
     "name": "stdout",
     "output_type": "stream",
     "text": [
      "0    1.0\n",
      "1    0.0\n",
      "2    0.0\n",
      "3    0.0\n",
      "4    NaN\n",
      "5    1.0\n",
      "dtype: float64\n"
     ]
    }
   ],
   "source": [
    "#count(pattern)\n",
    "print(df.str.count('n'))"
   ]
  },
  {
   "cell_type": "code",
   "execution_count": 38,
   "metadata": {},
   "outputs": [
    {
     "name": "stdout",
     "output_type": "stream",
     "text": [
      "0    0.0\n",
      "1   -1.0\n",
      "2   -1.0\n",
      "3   -1.0\n",
      "4    NaN\n",
      "5    4.0\n",
      "dtype: float64\n"
     ]
    }
   ],
   "source": [
    "#find(pattern)\n",
    "print(df.str.find('n'))    #in result '-1' indicates there is no value matching with given pattern in particular row"
   ]
  },
  {
   "cell_type": "code",
   "execution_count": 39,
   "metadata": {},
   "outputs": [
    {
     "name": "stdout",
     "output_type": "stream",
     "text": [
      "0    [n]\n",
      "1     []\n",
      "2     []\n",
      "3     []\n",
      "4    NaN\n",
      "5    [n]\n",
      "dtype: object\n"
     ]
    }
   ],
   "source": [
    "#findall(pattern)\n",
    "print(df.str.findall('n'))  #in result [] indicates null list as there is no value matching with given pattern in particular row"
   ]
  },
  {
   "cell_type": "code",
   "execution_count": 40,
   "metadata": {},
   "outputs": [
    {
     "name": "stdout",
     "output_type": "stream",
     "text": [
      "0     True\n",
      "1    False\n",
      "2    False\n",
      "3    False\n",
      "4      NaN\n",
      "5    False\n",
      "dtype: object\n"
     ]
    }
   ],
   "source": [
    "#islower()\n",
    "print(df.str.islower())"
   ]
  },
  {
   "cell_type": "code",
   "execution_count": 41,
   "metadata": {},
   "outputs": [
    {
     "name": "stdout",
     "output_type": "stream",
     "text": [
      "0    False\n",
      "1    False\n",
      "2    False\n",
      "3    False\n",
      "4      NaN\n",
      "5    False\n",
      "dtype: object\n"
     ]
    }
   ],
   "source": [
    "#isupper()\n",
    "print(df.str.isupper()) # as no value in uppercase"
   ]
  },
  {
   "cell_type": "code",
   "execution_count": 42,
   "metadata": {},
   "outputs": [
    {
     "name": "stdout",
     "output_type": "stream",
     "text": [
      "0    False\n",
      "1    False\n",
      "2    False\n",
      "3     True\n",
      "4      NaN\n",
      "5    False\n",
      "dtype: object\n"
     ]
    }
   ],
   "source": [
    "#isnumeric()\n",
    "print(df.str.isnumeric())"
   ]
  },
  {
   "cell_type": "code",
   "execution_count": 43,
   "metadata": {},
   "outputs": [
    {
     "name": "stdout",
     "output_type": "stream",
     "text": [
      "0        NIGHT_FURY1\n",
      "1               iS  \n",
      "2    gEEKS, FORGEEKS\n",
      "3                100\n",
      "4                NaN\n",
      "5       cONTRIBUTOR \n",
      "dtype: object\n"
     ]
    }
   ],
   "source": [
    "#swapcase()\n",
    "print(df.str.swapcase())"
   ]
  },
  {
   "cell_type": "code",
   "execution_count": null,
   "metadata": {},
   "outputs": [],
   "source": []
  }
 ],
 "metadata": {
  "kernelspec": {
   "display_name": "Python 3",
   "language": "python",
   "name": "python3"
  },
  "language_info": {
   "codemirror_mode": {
    "name": "ipython",
    "version": 3
   },
   "file_extension": ".py",
   "mimetype": "text/x-python",
   "name": "python",
   "nbconvert_exporter": "python",
   "pygments_lexer": "ipython3",
   "version": "3.8.2"
  }
 },
 "nbformat": 4,
 "nbformat_minor": 4
}
